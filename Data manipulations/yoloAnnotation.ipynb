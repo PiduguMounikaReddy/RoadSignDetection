{
 "cells": [
  {
   "cell_type": "code",
   "execution_count": null,
   "metadata": {},
   "outputs": [],
   "source": [
    "import os\n",
    "import pandas as pd\n",
    "import numpy as np\n",
    "from pathlib import Path\n",
    "import cv2\n",
    "import yaml\n",
    "import random"
   ]
  },
  {
   "cell_type": "code",
   "execution_count": null,
   "metadata": {},
   "outputs": [],
   "source": [
    "def imgResize(img, x1, y1, x2, y2, width, height):\n",
    "    originalHeight, originalWidth = img.shape[:2]\n",
    "    scaleWidth = width / originalWidth\n",
    "    scaleHeight = height / originalHeight\n",
    "    imgResized = cv2.resize(\n",
    "        img, (width, height), interpolation=cv2.INTER_LINEAR)\n",
    "    x1New, y1New = int(x1 * scaleWidth), int(y1 * scaleHeight)\n",
    "    x2New, y2New = int(x2 * scaleWidth), int(y2 * scaleHeight)\n",
    "    return imgResized, x1New, y1New, x2New, y2New\n"
   ]
  },
  {
   "cell_type": "code",
   "execution_count": null,
   "metadata": {},
   "outputs": [],
   "source": [
    "def LisaToYolo(dataPath):\n",
    "    filePathAnnot = dataPath+\"/annotations.csv\"\n",
    "    dfAnnot = pd.read_csv(filePathAnnot, sep=',')\n",
    "    identicalSigns = dfAnnot['class'].unique().tolist()\n",
    "    identicalFiles = dfAnnot['filename'].unique()\n",
    "    for file in identicalFiles:\n",
    "        fileImg = os.path.join(dataPath, file)\n",
    "        if not os.path.exists(fileImg):\n",
    "            continue\n",
    "        fileDataFrame = dfAnnot[dfAnnot['filename'] == file]\n",
    "        fileAnnotations = []\n",
    "        for index, row in fileDataFrame.iterrows():\n",
    "            img = cv2.imread(dataPath+\"/\"+row[0])\n",
    "            imgResized, x1, y1, x2, y2 = imgResize(img, row[1], row[2], row[3], row[4], 640, 640)\n",
    "            heigh, wid, _ = img.shape\n",
    "            xCenter = ((x1 + x2) // 2) / wid\n",
    "            yCenter = ((y1 + y2) // 2) / heigh\n",
    "            width = (x2 - x1) / wid\n",
    "            height = (y2 - y1) / heigh\n",
    "            idClass = identicalSigns.index(row[5])\n",
    "            cv2.imwrite(\"./Yolov5newdata\"+\"/\"+file.split(\"/\")[-1], imgResized)\n",
    "            fileAnnotations.append(f\"{idClass} {xCenter} {yCenter} {width} {height}\")\n",
    "        with open(os.path.join('./Yolov5newdata', f\"{Path(file).stem}.txt\"), \"w\") as f:\n",
    "            f.write(\"\\n\".join(fileAnnotations))"
   ]
  },
  {
   "cell_type": "code",
   "execution_count": null,
   "metadata": {},
   "outputs": [],
   "source": [
    "def trainValCreation(dataPath):\n",
    "    filePathAnnot = \"./Data/annotations.csv\"\n",
    "    dfAnnot = pd.read_csv(filePathAnnot, sep=',')\n",
    "    identicalSigns = dfAnnot['class'].unique().tolist()\n",
    "    imgFiles = [dataPath+\"/\"+f for f in os.listdir(dataPath) if f.endswith('.jpg') or f.endswith('.png')]\n",
    "    random.shuffle(imgFiles)\n",
    "    splitRatio = 0.8\n",
    "    trainFiles = imgFiles[:int(len(imgFiles) * splitRatio)]\n",
    "    valFiles = imgFiles[int(len(imgFiles) * splitRatio):]\n",
    "\n",
    "    with open(\"train.txt\", \"w\") as f:\n",
    "        f.writelines([ file + \"\\n\" for file in trainFiles])\n",
    "\n",
    "    with open(\"val.txt\", \"w\") as f:\n",
    "        f.writelines([file + \"\\n\" for file in valFiles])\n",
    "    return len(identicalSigns), identicalSigns\n"
   ]
  },
  {
   "cell_type": "code",
   "execution_count": null,
   "metadata": {},
   "outputs": [],
   "source": [
    "\n",
    "def yamlCreation(file, noClass, listClass):\n",
    "    data = {\n",
    "    'train': './train.txt',\n",
    "    'val': './val.txt',\n",
    "    'nc': noClass,\n",
    "    'names': listClass\n",
    "    }\n",
    "\n",
    "    with open(file, 'w') as file:\n",
    "        yaml.dump(data, file, default_flow_style=False)"
   ]
  },
  {
   "cell_type": "code",
   "execution_count": null,
   "metadata": {},
   "outputs": [],
   "source": [
    "os.mkdir('./Yolov5newdata')"
   ]
  },
  {
   "cell_type": "code",
   "execution_count": null,
   "metadata": {},
   "outputs": [],
   "source": [
    "LisaToYolo('./DataSet2')\n",
    "noClass, listClass = trainValCreation('./Yolov5newdata')\n",
    "yamlCreation('dataset.yaml', noClass, listClass)"
   ]
  }
 ],
 "metadata": {
  "kernelspec": {
   "display_name": "Python 3.10.8 64-bit",
   "language": "python",
   "name": "python3"
  },
  "language_info": {
   "codemirror_mode": {
    "name": "ipython",
    "version": 3
   },
   "file_extension": ".py",
   "mimetype": "text/x-python",
   "name": "python",
   "nbconvert_exporter": "python",
   "pygments_lexer": "ipython3",
   "version": "3.10.8"
  },
  "orig_nbformat": 4,
  "vscode": {
   "interpreter": {
    "hash": "7e1998ff7f8aa20ada591c520b972326324e5ea05489af9e422744c7c09f6dad"
   }
  }
 },
 "nbformat": 4,
 "nbformat_minor": 2
}
