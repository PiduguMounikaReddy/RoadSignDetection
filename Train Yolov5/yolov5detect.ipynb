{
 "cells": [
  {
   "cell_type": "code",
   "execution_count": null,
   "metadata": {},
   "outputs": [],
   "source": [
    "!git clone https://github.com/AlexeyAB/darknet.git\n",
    "!wget https://pjreddie.com/media/files/yolov5.weights"
   ]
  },
  {
   "cell_type": "code",
   "execution_count": null,
   "metadata": {},
   "outputs": [],
   "source": [
    "import cv2\n",
    "import pandas as pd\n",
    "import numpy as np\n",
    "from sklearn.model_selection import train_test_split"
   ]
  },
  {
   "cell_type": "code",
   "execution_count": null,
   "metadata": {},
   "outputs": [],
   "source": [
    "# Load YOLOv3  \n",
    "def YoloLoad():\n",
    "    dnet = cv2.dnn.readNet(\"darknet/yolov5.weights\", \"darknet/cfg/yolov5.cfg\")\n",
    "    with open(\"darknet/data/coco.names\", \"r\") as f:\n",
    "        classes = [line.strip() for line in f.readlines()]\n",
    "    return dnet, classes"
   ]
  },
  {
   "cell_type": "code",
   "execution_count": null,
   "metadata": {},
   "outputs": [],
   "source": [
    "# Preprocess image for YOLO\n",
    "def imgPreprocess(imgPath):\n",
    "    img = cv2.imread(imgPath)\n",
    "    height, width, _ = img.shape\n",
    "    blob = cv2.dnn.blobFromImage(img, 1/255.0, (416, 416), (0, 0, 0), True, crop=False)\n",
    "    return img, height, width, blob"
   ]
  },
  {
   "cell_type": "code",
   "execution_count": null,
   "metadata": {},
   "outputs": [],
   "source": [
    "# Perform object detection\n",
    "def ObjectDetection(net, blob, image):\n",
    "    namesOflayer = net.getnamesOflayer()\n",
    "    layerOutput = [namesOflayer[i[0] - 1] for i in net.getUnconnectedOutLayers()]\n",
    "    net.setInput(blob)\n",
    "    layerOutputs = net.forward(layerOutput)\n",
    "    return layerOutputs"
   ]
  },
  {
   "cell_type": "code",
   "execution_count": null,
   "metadata": {},
   "outputs": [],
   "source": [
    "# Get detection results\n",
    "def GetDetectionResults(height, width, layerOutputs, classes, confThreshold=0.5, nmsThreshold=0.4):\n",
    "    classIds = []\n",
    "    confidences = []\n",
    "    boxes = []\n",
    "\n",
    "    for output in layerOutputs:\n",
    "        for detection in output:\n",
    "            score = detection[5:]\n",
    "            classId = np.argmax(score)\n",
    "            confidence = score[classId]\n",
    "\n",
    "            if confidence > confThreshold:\n",
    "                center_x, center_y, w, h = (detection[0:4] * np.array([width, height, width, height])).astype('int')\n",
    "                x = int(center_x - w / 2)\n",
    "                y = int(center_y - h / 2)\n",
    "                boxes.append([x, y, w, h])\n",
    "                confidences.append(float(confidence))\n",
    "                classIds.append(classId)\n",
    "\n",
    "    indices = cv2.dnn.NMSBoxes(boxes, confidences, confThreshold, nmsThreshold)\n",
    "\n",
    "    return boxes, confidences, classIds, indices\n"
   ]
  },
  {
   "cell_type": "code",
   "execution_count": null,
   "metadata": {},
   "outputs": [],
   "source": [
    "# Draw detected objects \n",
    "def DrawDetectedObjects(img, classes, boxes, confidences, classIds, indices):\n",
    "    colours = np.random.uniform(0, 255, size=(len(classes), 3))\n",
    "\n",
    "    for i in indices:\n",
    "        i = i[0]\n",
    "        box = boxes[i]\n",
    "        x, y, w, h = box[0], box[1], box[2], box[3]\n",
    "        label = str(classes[classIds[i]])\n",
    "        conf = confidences[i]\n",
    "        color = colours[classIds[i]]\n",
    "        cv2.rectangle(img, (x, y), (x + w, y + h), color, 2)\n",
    "        cv2.putText(img, f\"{label} {conf:.2f}\", (x, y - 5), cv2.FONT_HERSHEY_SIMPLEX, 0.5, color, 2)\n",
    "        return img"
   ]
  },
  {
   "cell_type": "code",
   "execution_count": null,
   "metadata": {},
   "outputs": [],
   "source": [
    "def main(imgPath, outputPath):\n",
    "    net, classes = YoloLoad()\n",
    "    img, h, w, blob = imgPreprocess(imgPath)\n",
    "    layerOutputs = ObjectDetection(net, blob, img)\n",
    "    boxes, confidences, classIds, indices = GetDetectionResults(h, w, layerOutputs, classes)\n",
    "    detectedImg = DrawDetectedObjects(img, classes, boxes, confidences, classIds, indices)\n",
    "    cv2.imwrite(outputPath, detectedImg)\n"
   ]
  },
  {
   "cell_type": "code",
   "execution_count": null,
   "metadata": {},
   "outputs": [],
   "source": [
    "def LoadDS(dsFolderPath):\n",
    "    filepathAnnot = dsFolderPath+\"/annotations.csv\"\n",
    "    dfAnnot = pd.read_csv(filepathAnnot, sep=\",\")\n",
    "    annotations = []\n",
    "    for index, row in dfAnnot[1:].iterrows():\n",
    "        annotations.append(\n",
    "            dsFolderPath+\"/\"+row[0])\n",
    "\n",
    "    del dfAnnot\n",
    "    X_train, X_val, y_train, y_val = train_test_split(\n",
    "        annotations, annotations, test_size=0.2, random_state=42)\n",
    "    return  X_train, X_val, y_train, y_val"
   ]
  },
  {
   "cell_type": "code",
   "execution_count": null,
   "metadata": {},
   "outputs": [],
   "source": [
    "X_train, X_val, y_train, y_val = LoadDS(\"./DataSet\")\n",
    "for path in X_val:\n",
    "    main(path, path.split(\"/\")[-1])"
   ]
  }
 ],
 "metadata": {
  "kernelspec": {
   "display_name": "Python 3.10.8 64-bit",
   "language": "python",
   "name": "python3"
  },
  "language_info": {
   "name": "python",
   "version": "3.10.8"
  },
  "orig_nbformat": 4,
  "vscode": {
   "interpreter": {
    "hash": "7e1998ff7f8aa20ada591c520b972326324e5ea05489af9e422744c7c09f6dad"
   }
  }
 },
 "nbformat": 4,
 "nbformat_minor": 2
}
